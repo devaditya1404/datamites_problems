{
 "cells": [
  {
   "cell_type": "code",
   "execution_count": 1,
   "id": "902e0705",
   "metadata": {},
   "outputs": [
    {
     "name": "stdout",
     "output_type": "stream",
     "text": [
      "length in cm4\n",
      "breadth in cm5\n",
      "your area rectangle is: 20\n"
     ]
    }
   ],
   "source": [
    "l = int(input(\"length in cm\"))\n",
    "b = int(input(\"breadth in cm\"))\n",
    "a = l * b\n",
    "print(\"your area rectangle is:\",a)"
   ]
  },
  {
   "cell_type": "code",
   "execution_count": 2,
   "id": "889e335c",
   "metadata": {},
   "outputs": [
    {
     "name": "stdout",
     "output_type": "stream",
     "text": [
      "Enter your Radius4\n",
      "your area of rectangle is: 50.24\n"
     ]
    }
   ],
   "source": [
    "r = int(input(\"Enter your Radius\"))\n",
    "a = 3.14*(r*r)\n",
    "print(\"your area of rectangle is:\",a)"
   ]
  },
  {
   "cell_type": "code",
   "execution_count": 3,
   "id": "c7e800cc",
   "metadata": {},
   "outputs": [
    {
     "name": "stdout",
     "output_type": "stream",
     "text": [
      "enter length10\n",
      "enter breadth20\n",
      "enter height2\n",
      "the area is: 484\n"
     ]
    }
   ],
   "source": [
    "l = int(input(\"enter length\"))\n",
    "b = int(input(\"enter breadth\"))\n",
    "h = int(input(\"enter height\"))\n",
    "a = 2*(l*b+b*h+h*1)\n",
    "print(\"the area is:\",a)"
   ]
  },
  {
   "cell_type": "code",
   "execution_count": 4,
   "id": "efc420fd",
   "metadata": {},
   "outputs": [
    {
     "name": "stdout",
     "output_type": "stream",
     "text": [
      "enter length of cube4\n",
      "the area of cube is 96\n"
     ]
    }
   ],
   "source": [
    "a = int(input(\"enter length of cube\"))\n",
    "x = 6*(a*a)\n",
    "print(\"the area of cube is\",x)"
   ]
  },
  {
   "cell_type": "raw",
   "id": "be728157",
   "metadata": {},
   "source": [
    "r"
   ]
  },
  {
   "cell_type": "code",
   "execution_count": 5,
   "id": "cd15c1d5",
   "metadata": {},
   "outputs": [
    {
     "name": "stdout",
     "output_type": "stream",
     "text": [
      "enter radius32\n",
      "enter height2\n",
      "your c.s.a is 401.92\n"
     ]
    }
   ],
   "source": [
    "r = int(input(\"enter radius\"))\n",
    "h = int(input(\"enter height\"))\n",
    "a = 2*(3.14*(r*h))\n",
    "print(\"your c.s.a is\",a)"
   ]
  },
  {
   "cell_type": "code",
   "execution_count": 6,
   "id": "ab08ad64",
   "metadata": {},
   "outputs": [
    {
     "name": "stdout",
     "output_type": "stream",
     "text": [
      "enter radius3\n",
      "enter height4\n",
      "area is 131.88\n"
     ]
    }
   ],
   "source": [
    "r = int(input(\"enter radius\"))\n",
    "h = int(input(\"enter height\"))\n",
    "a = 2*3.14*r*(r+h)\n",
    "print(\"area is\",a)"
   ]
  },
  {
   "cell_type": "markdown",
   "id": "adc525c1",
   "metadata": {},
   "source": [
    "##### "
   ]
  }
 ],
 "metadata": {
  "kernelspec": {
   "display_name": "Python 3 (ipykernel)",
   "language": "python",
   "name": "python3"
  },
  "language_info": {
   "codemirror_mode": {
    "name": "ipython",
    "version": 3
   },
   "file_extension": ".py",
   "mimetype": "text/x-python",
   "name": "python",
   "nbconvert_exporter": "python",
   "pygments_lexer": "ipython3",
   "version": "3.9.13"
  }
 },
 "nbformat": 4,
 "nbformat_minor": 5
}
