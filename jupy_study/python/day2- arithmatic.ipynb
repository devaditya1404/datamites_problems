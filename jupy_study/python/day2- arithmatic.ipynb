{
 "cells": [
  {
   "cell_type": "code",
   "execution_count": 1,
   "id": "eda55ba0",
   "metadata": {},
   "outputs": [
    {
     "name": "stdout",
     "output_type": "stream",
     "text": [
      "Enter 1st value: 10\n",
      "Enter 2nd value: 5\n",
      "Addition of two value is : 15\n"
     ]
    }
   ],
   "source": [
    "n1 = int(input(\"Enter 1st value: \"))\n",
    "n2 = int(input(\"Enter 2nd value: \"))\n",
    "res = n1 + n2\n",
    "print(\"Addition of two value is :\", res)"
   ]
  },
  {
   "cell_type": "code",
   "execution_count": 3,
   "id": "1b09de44",
   "metadata": {},
   "outputs": [
    {
     "name": "stdout",
     "output_type": "stream",
     "text": [
      "Enter 1st value: 10\n",
      "Enter 2nd value: 5\n",
      "Subtraction of two value is : 5\n"
     ]
    }
   ],
   "source": [
    "n1  = int(input(\"Enter 1st value: \"))\n",
    "n2  = int(input(\"Enter 2nd value: \"))\n",
    "res = n1 - n2\n",
    "print(\"Subtraction of two value is :\", res)\n"
   ]
  },
  {
   "cell_type": "code",
   "execution_count": 4,
   "id": "1b4d5fcd",
   "metadata": {},
   "outputs": [
    {
     "name": "stdout",
     "output_type": "stream",
     "text": [
      "Enter 1st value: 10\n",
      "Enter 2nd value: 5\n",
      "division of two value is :  2.0\n"
     ]
    }
   ],
   "source": [
    "n1 = int(input(\"Enter 1st value: \"))\n",
    "n2 = int(input(\"Enter 2nd value: \"))\n",
    "res = n1/n2\n",
    "print(\"division of two value is : \", res)"
   ]
  },
  {
   "cell_type": "code",
   "execution_count": 5,
   "id": "b8a4a581",
   "metadata": {},
   "outputs": [
    {
     "name": "stdout",
     "output_type": "stream",
     "text": [
      "Enter 1st value: 5\n",
      "Enter 2nd value: 10\n",
      "Multiplication of two value is:  50\n"
     ]
    }
   ],
   "source": [
    "n1 = int(input(\"Enter 1st value: \"))\n",
    "n2 = int(input(\"Enter 2nd value: \"))\n",
    "res = n1*n2\n",
    "print(\"Multiplication of two value is: \",res)"
   ]
  },
  {
   "cell_type": "code",
   "execution_count": 8,
   "id": "fc37fd68",
   "metadata": {},
   "outputs": [
    {
     "name": "stdout",
     "output_type": "stream",
     "text": [
      "Enter 1st value: 10\n",
      "Enter 2nd value: 6\n",
      "modulus is 4\n"
     ]
    }
   ],
   "source": [
    "n1 = int(input(\"Enter 1st value: \"))\n",
    "n2 = int(input(\"Enter 2nd value: \"))\n",
    "res = n1%n2\n",
    "print(\"modulus is\", res)"
   ]
  },
  {
   "cell_type": "code",
   "execution_count": 9,
   "id": "f35784b0",
   "metadata": {},
   "outputs": [
    {
     "name": "stdout",
     "output_type": "stream",
     "text": [
      "Enter 1st value: 10\n",
      "Enter 2nd value: 2\n",
      "exponential solution is  100\n"
     ]
    }
   ],
   "source": [
    "n1 = int(input(\"Enter 1st value: \"))\n",
    "n2 = int(input(\"Enter 2nd value: \"))\n",
    "res = n1**n2\n",
    "print(\"exponential solution is \", res)"
   ]
  },
  {
   "cell_type": "code",
   "execution_count": 14,
   "id": "3c8faeee",
   "metadata": {},
   "outputs": [
    {
     "name": "stdout",
     "output_type": "stream",
     "text": [
      "Enter 1st value: 10\n",
      "Enter 2nd value: 2\n",
      "solution is  100\n",
      "solution is  12\n",
      "solution is  8\n",
      "solution is  5.0\n",
      "solution is  20\n"
     ]
    }
   ],
   "source": [
    "n1 = int(input(\"Enter 1st value: \"))\n",
    "n2 = int(input(\"Enter 2nd value: \"))\n",
    "res = n1**n2\n",
    "add = n1+ n2\n",
    "sub = n1 - n2\n",
    "div = n1/n2\n",
    "mod = n1%n2\n",
    "mul = n1*n2\n",
    "print(\"solution is \", res),\n",
    "print(\"solution is \", add)\n",
    "print(\"solution is \", sub)\n",
    "print(\"solution is \", div)\n",
    "print(\"solution is \", mul)\n"
   ]
  },
  {
   "cell_type": "code",
   "execution_count": 1,
   "id": "b02aaab1",
   "metadata": {},
   "outputs": [
    {
     "name": "stdout",
     "output_type": "stream",
     "text": [
      "Enter side value 10\n",
      "Area of square: 100.0\n"
     ]
    }
   ],
   "source": [
    "side=float(input(\"Enter side value \"))\n",
    "AOS = side**2 \n",
    "print(\"Area of square:\",AOS)"
   ]
  },
  {
   "cell_type": "code",
   "execution_count": 2,
   "id": "6202295c",
   "metadata": {},
   "outputs": [
    {
     "name": "stdout",
     "output_type": "stream",
     "text": [
      "Enter the radius: 3\n",
      "area of circle is 28.26\n"
     ]
    }
   ],
   "source": [
    "## area of Cicle\n",
    "n = float(input(\"Enter the radius: \"))\n",
    "p = 3.14\n",
    "f = (p * (n*n)) \n",
    "print(\"area of circle is\", f)"
   ]
  },
  {
   "cell_type": "code",
   "execution_count": 3,
   "id": "09531185",
   "metadata": {},
   "outputs": [
    {
     "name": "stdout",
     "output_type": "stream",
     "text": [
      "Enter length3\n",
      "Enter breadth5\n",
      "Area of rect: 15.0\n"
     ]
    }
   ],
   "source": [
    "#rect\n",
    "length= float(input(\"Enter length\"))\n",
    "breadth = float(input(\"Enter breadth\"))\n",
    "formula = length* breadth\n",
    "print(\"Area of rect:\", formula)"
   ]
  },
  {
   "cell_type": "code",
   "execution_count": 6,
   "id": "353d0612",
   "metadata": {},
   "outputs": [
    {
     "name": "stdout",
     "output_type": "stream",
     "text": [
      "Enter base10\n",
      "Enter height5\n",
      "Area of triangle:  25.0\n"
     ]
    }
   ],
   "source": [
    "#triangle\n",
    "base = float(input(\"Enter base\"))\n",
    "height = float(input(\"Enter height\"))\n",
    "formula = (1/2 * base*height)\n",
    "print(\"Area of triangle: \", formula)"
   ]
  },
  {
   "cell_type": "code",
   "execution_count": null,
   "id": "f9242238",
   "metadata": {},
   "outputs": [],
   "source": [
    "#Assignment 1 :-- check all formats for the print function\n",
    "#                 Daily 10 programs\n",
    "#                 use maths formula\n",
    "#                 given number is +,- or neutral\n",
    "#                 given number is odd or even"
   ]
  },
  {
   "cell_type": "code",
   "execution_count": 5,
   "id": "a852c20c",
   "metadata": {},
   "outputs": [
    {
     "name": "stdout",
     "output_type": "stream",
     "text": [
      "both are same\n",
      "bye\n"
     ]
    }
   ],
   "source": [
    "a  = 50\n",
    "b  = 50\n",
    "\n",
    "if(a > b):\n",
    "    print(\"a is greater\")\n",
    "    print(\"in if\")\n",
    "\n",
    "elif(a < b):\n",
    "    print(\"b is greater\")\n",
    "    print(\"in elif\")\n",
    "else:\n",
    "    print(\"both are same\")\n",
    "\n",
    "print(\"bye\")"
   ]
  },
  {
   "cell_type": "code",
   "execution_count": null,
   "id": "c86832a4",
   "metadata": {},
   "outputs": [],
   "source": []
  }
 ],
 "metadata": {
  "kernelspec": {
   "display_name": "Python 3 (ipykernel)",
   "language": "python",
   "name": "python3"
  },
  "language_info": {
   "codemirror_mode": {
    "name": "ipython",
    "version": 3
   },
   "file_extension": ".py",
   "mimetype": "text/x-python",
   "name": "python",
   "nbconvert_exporter": "python",
   "pygments_lexer": "ipython3",
   "version": "3.9.13"
  }
 },
 "nbformat": 4,
 "nbformat_minor": 5
}
