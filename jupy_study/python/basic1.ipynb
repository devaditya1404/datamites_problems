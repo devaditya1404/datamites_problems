{
 "cells": [
  {
   "cell_type": "code",
   "execution_count": 2,
   "id": "99a3252a",
   "metadata": {},
   "outputs": [],
   "source": [
    "city = \"pune\""
   ]
  },
  {
   "cell_type": "code",
   "execution_count": 3,
   "id": "eb3cc889",
   "metadata": {},
   "outputs": [
    {
     "data": {
      "text/plain": [
       "'pune'"
      ]
     },
     "execution_count": 3,
     "metadata": {},
     "output_type": "execute_result"
    }
   ],
   "source": [
    "city"
   ]
  },
  {
   "cell_type": "code",
   "execution_count": 4,
   "id": "29050589",
   "metadata": {},
   "outputs": [],
   "source": [
    "Name = \"Ray\""
   ]
  },
  {
   "cell_type": "code",
   "execution_count": 5,
   "id": "93179ef7",
   "metadata": {},
   "outputs": [
    {
     "data": {
      "text/plain": [
       "'Ray'"
      ]
     },
     "execution_count": 5,
     "metadata": {},
     "output_type": "execute_result"
    }
   ],
   "source": [
    "Name"
   ]
  },
  {
   "cell_type": "code",
   "execution_count": 6,
   "id": "491fa698",
   "metadata": {},
   "outputs": [
    {
     "ename": "SyntaxError",
     "evalue": "cannot assign to operator (1653085641.py, line 1)",
     "output_type": "error",
     "traceback": [
      "\u001b[0;36m  File \u001b[0;32m\"/var/folders/rq/820y49n50_77y098gpbk73sm0000gn/T/ipykernel_42971/1653085641.py\"\u001b[0;36m, line \u001b[0;32m1\u001b[0m\n\u001b[0;31m    -per =  98.5\u001b[0m\n\u001b[0m    ^\u001b[0m\n\u001b[0;31mSyntaxError\u001b[0m\u001b[0;31m:\u001b[0m cannot assign to operator\n"
     ]
    }
   ],
   "source": [
    "-per =  98.5"
   ]
  },
  {
   "cell_type": "code",
   "execution_count": 7,
   "id": "b1b99f41",
   "metadata": {},
   "outputs": [],
   "source": [
    "_per = 98.5"
   ]
  },
  {
   "cell_type": "code",
   "execution_count": 8,
   "id": "cdd30425",
   "metadata": {},
   "outputs": [
    {
     "data": {
      "text/plain": [
       "98.5"
      ]
     },
     "execution_count": 8,
     "metadata": {},
     "output_type": "execute_result"
    }
   ],
   "source": [
    "_per"
   ]
  },
  {
   "cell_type": "code",
   "execution_count": 9,
   "id": "838e8f48",
   "metadata": {},
   "outputs": [],
   "source": [
    "SNum = 10"
   ]
  },
  {
   "cell_type": "code",
   "execution_count": 10,
   "id": "ce364d1c",
   "metadata": {},
   "outputs": [
    {
     "data": {
      "text/plain": [
       "10"
      ]
     },
     "execution_count": 10,
     "metadata": {},
     "output_type": "execute_result"
    }
   ],
   "source": [
    "SNum"
   ]
  },
  {
   "cell_type": "code",
   "execution_count": 11,
   "id": "adcb55a4",
   "metadata": {},
   "outputs": [
    {
     "ename": "SyntaxError",
     "evalue": "invalid syntax (3206161992.py, line 1)",
     "output_type": "error",
     "traceback": [
      "\u001b[0;36m  File \u001b[0;32m\"/var/folders/rq/820y49n50_77y098gpbk73sm0000gn/T/ipykernel_42971/3206161992.py\"\u001b[0;36m, line \u001b[0;32m1\u001b[0m\n\u001b[0;31m    5Num = 10\u001b[0m\n\u001b[0m     ^\u001b[0m\n\u001b[0;31mSyntaxError\u001b[0m\u001b[0;31m:\u001b[0m invalid syntax\n"
     ]
    }
   ],
   "source": [
    "5Num = 10"
   ]
  },
  {
   "cell_type": "code",
   "execution_count": 12,
   "id": "a9caa3dc",
   "metadata": {},
   "outputs": [],
   "source": [
    "Num5 = 10"
   ]
  },
  {
   "cell_type": "code",
   "execution_count": 13,
   "id": "4c7c3ee6",
   "metadata": {},
   "outputs": [
    {
     "data": {
      "text/plain": [
       "10"
      ]
     },
     "execution_count": 13,
     "metadata": {},
     "output_type": "execute_result"
    }
   ],
   "source": [
    "Num5"
   ]
  },
  {
   "cell_type": "code",
   "execution_count": 14,
   "id": "36fe1358",
   "metadata": {},
   "outputs": [
    {
     "ename": "SyntaxError",
     "evalue": "invalid syntax (680319288.py, line 1)",
     "output_type": "error",
     "traceback": [
      "\u001b[0;36m  File \u001b[0;32m\"/var/folders/rq/820y49n50_77y098gpbk73sm0000gn/T/ipykernel_42971/680319288.py\"\u001b[0;36m, line \u001b[0;32m1\u001b[0m\n\u001b[0;31m    @Country = \"India\"\u001b[0m\n\u001b[0m             ^\u001b[0m\n\u001b[0;31mSyntaxError\u001b[0m\u001b[0;31m:\u001b[0m invalid syntax\n"
     ]
    }
   ],
   "source": [
    "@Country = \"India\""
   ]
  },
  {
   "cell_type": "code",
   "execution_count": 15,
   "id": "2809d0ee",
   "metadata": {},
   "outputs": [],
   "source": [
    "Country =  \"India\""
   ]
  },
  {
   "cell_type": "code",
   "execution_count": 16,
   "id": "b2da8e16",
   "metadata": {},
   "outputs": [
    {
     "data": {
      "text/plain": [
       "'India'"
      ]
     },
     "execution_count": 16,
     "metadata": {},
     "output_type": "execute_result"
    }
   ],
   "source": [
    "Country"
   ]
  },
  {
   "cell_type": "code",
   "execution_count": 17,
   "id": "ebb5a7a9",
   "metadata": {},
   "outputs": [
    {
     "ename": "SyntaxError",
     "evalue": "invalid syntax (1791042184.py, line 1)",
     "output_type": "error",
     "traceback": [
      "\u001b[0;36m  File \u001b[0;32m\"/var/folders/rq/820y49n50_77y098gpbk73sm0000gn/T/ipykernel_42971/1791042184.py\"\u001b[0;36m, line \u001b[0;32m1\u001b[0m\n\u001b[0;31m    Roll Number = 10\u001b[0m\n\u001b[0m         ^\u001b[0m\n\u001b[0;31mSyntaxError\u001b[0m\u001b[0;31m:\u001b[0m invalid syntax\n"
     ]
    }
   ],
   "source": [
    "Roll Number = 10"
   ]
  },
  {
   "cell_type": "code",
   "execution_count": 18,
   "id": "7c1aff93",
   "metadata": {},
   "outputs": [],
   "source": [
    "Roll_Number  = 10"
   ]
  },
  {
   "cell_type": "code",
   "execution_count": 19,
   "id": "48a0fbd0",
   "metadata": {},
   "outputs": [
    {
     "data": {
      "text/plain": [
       "10"
      ]
     },
     "execution_count": 19,
     "metadata": {},
     "output_type": "execute_result"
    }
   ],
   "source": [
    "Roll_Number"
   ]
  },
  {
   "cell_type": "code",
   "execution_count": 20,
   "id": "cb903a61",
   "metadata": {},
   "outputs": [
    {
     "ename": "SyntaxError",
     "evalue": "invalid syntax (330162604.py, line 1)",
     "output_type": "error",
     "traceback": [
      "\u001b[0;36m  File \u001b[0;32m\"/var/folders/rq/820y49n50_77y098gpbk73sm0000gn/T/ipykernel_42971/330162604.py\"\u001b[0;36m, line \u001b[0;32m1\u001b[0m\n\u001b[0;31m    @Country \"India\"\u001b[0m\n\u001b[0m             ^\u001b[0m\n\u001b[0;31mSyntaxError\u001b[0m\u001b[0;31m:\u001b[0m invalid syntax\n"
     ]
    }
   ],
   "source": [
    "@Country \"India\""
   ]
  },
  {
   "cell_type": "code",
   "execution_count": 24,
   "id": "6ce032da",
   "metadata": {},
   "outputs": [],
   "source": [
    "age = 22\n",
    "salary = 1340\n",
    "New_Name = \"Aditya\"\n"
   ]
  },
  {
   "cell_type": "code",
   "execution_count": 25,
   "id": "ea4fc0d2",
   "metadata": {},
   "outputs": [
    {
     "name": "stdout",
     "output_type": "stream",
     "text": [
      "22 1340 Aditya\n"
     ]
    }
   ],
   "source": [
    "print(age,salary,New_Name)"
   ]
  },
  {
   "cell_type": "code",
   "execution_count": 26,
   "id": "10fd07a9",
   "metadata": {},
   "outputs": [
    {
     "name": "stdout",
     "output_type": "stream",
     "text": [
      "22\n",
      "1340\n",
      "Aditya\n"
     ]
    }
   ],
   "source": [
    "print(age)\n",
    "print(salary)\n",
    "print(New_Name)"
   ]
  },
  {
   "cell_type": "code",
   "execution_count": 27,
   "id": "9852dcfb",
   "metadata": {},
   "outputs": [
    {
     "ename": "NameError",
     "evalue": "name 'typeof' is not defined",
     "output_type": "error",
     "traceback": [
      "\u001b[0;31m---------------------------------------------------------------------------\u001b[0m",
      "\u001b[0;31mNameError\u001b[0m                                 Traceback (most recent call last)",
      "\u001b[0;32m/var/folders/rq/820y49n50_77y098gpbk73sm0000gn/T/ipykernel_42971/210796251.py\u001b[0m in \u001b[0;36m<module>\u001b[0;34m\u001b[0m\n\u001b[0;32m----> 1\u001b[0;31m \u001b[0mtypeof\u001b[0m\u001b[0;34m(\u001b[0m\u001b[0mNew_Name\u001b[0m\u001b[0;34m)\u001b[0m\u001b[0;34m\u001b[0m\u001b[0;34m\u001b[0m\u001b[0m\n\u001b[0m",
      "\u001b[0;31mNameError\u001b[0m: name 'typeof' is not defined"
     ]
    }
   ],
   "source": [
    "typeof(New_Name)"
   ]
  },
  {
   "cell_type": "code",
   "execution_count": 28,
   "id": "71df3830",
   "metadata": {},
   "outputs": [
    {
     "data": {
      "text/plain": [
       "str"
      ]
     },
     "execution_count": 28,
     "metadata": {},
     "output_type": "execute_result"
    }
   ],
   "source": [
    "type(New_Name)"
   ]
  },
  {
   "cell_type": "code",
   "execution_count": 29,
   "id": "6a42b25a",
   "metadata": {},
   "outputs": [
    {
     "data": {
      "text/plain": [
       "int"
      ]
     },
     "execution_count": 29,
     "metadata": {},
     "output_type": "execute_result"
    }
   ],
   "source": [
    "type(age)"
   ]
  },
  {
   "cell_type": "code",
   "execution_count": 30,
   "id": "63bbe6f7",
   "metadata": {},
   "outputs": [
    {
     "data": {
      "text/plain": [
       "float"
      ]
     },
     "execution_count": 30,
     "metadata": {},
     "output_type": "execute_result"
    }
   ],
   "source": [
    "type(_per)"
   ]
  },
  {
   "cell_type": "code",
   "execution_count": 31,
   "id": "005e812c",
   "metadata": {},
   "outputs": [],
   "source": [
    "data = True"
   ]
  },
  {
   "cell_type": "code",
   "execution_count": 32,
   "id": "2bd25feb",
   "metadata": {},
   "outputs": [
    {
     "data": {
      "text/plain": [
       "bool"
      ]
     },
     "execution_count": 32,
     "metadata": {},
     "output_type": "execute_result"
    }
   ],
   "source": [
    "type(data)"
   ]
  },
  {
   "cell_type": "code",
   "execution_count": 33,
   "id": "fb772d36",
   "metadata": {},
   "outputs": [],
   "source": [
    "Aditya = \"Aditya\""
   ]
  },
  {
   "cell_type": "code",
   "execution_count": 34,
   "id": "3bf362a4",
   "metadata": {},
   "outputs": [
    {
     "data": {
      "text/plain": [
       "str"
      ]
     },
     "execution_count": 34,
     "metadata": {},
     "output_type": "execute_result"
    }
   ],
   "source": [
    "type(Aditya)"
   ]
  },
  {
   "cell_type": "code",
   "execution_count": 35,
   "id": "90e2cdbc",
   "metadata": {},
   "outputs": [],
   "source": [
    "car = 'omni'"
   ]
  },
  {
   "cell_type": "code",
   "execution_count": 36,
   "id": "6e472dfb",
   "metadata": {},
   "outputs": [
    {
     "data": {
      "text/plain": [
       "str"
      ]
     },
     "execution_count": 36,
     "metadata": {},
     "output_type": "execute_result"
    }
   ],
   "source": [
    "type(car)"
   ]
  },
  {
   "cell_type": "code",
   "execution_count": null,
   "id": "f614398a",
   "metadata": {},
   "outputs": [],
   "source": []
  }
 ],
 "metadata": {
  "kernelspec": {
   "display_name": "Python 3 (ipykernel)",
   "language": "python",
   "name": "python3"
  },
  "language_info": {
   "codemirror_mode": {
    "name": "ipython",
    "version": 3
   },
   "file_extension": ".py",
   "mimetype": "text/x-python",
   "name": "python",
   "nbconvert_exporter": "python",
   "pygments_lexer": "ipython3",
   "version": "3.9.13"
  }
 },
 "nbformat": 4,
 "nbformat_minor": 5
}
