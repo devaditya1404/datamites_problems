{
 "cells": [
  {
   "cell_type": "code",
   "execution_count": 1,
   "id": "3b1d0e4f",
   "metadata": {},
   "outputs": [],
   "source": [
    "# lambda Function practice"
   ]
  },
  {
   "cell_type": "code",
   "execution_count": 2,
   "id": "f648f823",
   "metadata": {},
   "outputs": [],
   "source": [
    "square = lambda x : x**2"
   ]
  },
  {
   "cell_type": "code",
   "execution_count": 3,
   "id": "d9ba3167",
   "metadata": {},
   "outputs": [
    {
     "data": {
      "text/plain": [
       "25"
      ]
     },
     "execution_count": 3,
     "metadata": {},
     "output_type": "execute_result"
    }
   ],
   "source": [
    "square(5)"
   ]
  },
  {
   "cell_type": "code",
   "execution_count": 1,
   "id": "65c8d3b8",
   "metadata": {},
   "outputs": [
    {
     "name": "stdout",
     "output_type": "stream",
     "text": [
      "[1, 4, 9, 16, 25, 36]\n"
     ]
    }
   ],
   "source": [
    "list1 = [1,2,3,4,5,6]\n",
    "sq_num = map(lambda x : x**2,list1)\n",
    "print(list(sq_num))"
   ]
  },
  {
   "cell_type": "code",
   "execution_count": 2,
   "id": "e4c7ab34",
   "metadata": {},
   "outputs": [
    {
     "name": "stdout",
     "output_type": "stream",
     "text": [
      "[2, 4, 6, 8, 10]\n"
     ]
    }
   ],
   "source": [
    "number = [1,2,3,4,5,6,7,8,9,10]\n",
    "even = filter(lambda x : x%2 == 0,number)\n",
    "print(list(square_num))"
   ]
  },
  {
   "cell_type": "code",
   "execution_count": 3,
   "id": "a2151c93",
   "metadata": {},
   "outputs": [
    {
     "name": "stdout",
     "output_type": "stream",
     "text": [
      "[['Bhavesh', 15], ['Aditya', 20], ['JOL', 21]]\n"
     ]
    }
   ],
   "source": [
    "students = ([\"Aditya\",20],[\"Bhavesh\",15],[\"JOL\",21])\n",
    "student_by_age = sorted(students,key = lambda x :x[1])\n",
    "print(student_by_age)"
   ]
  },
  {
   "cell_type": "code",
   "execution_count": 17,
   "id": "ca598020",
   "metadata": {},
   "outputs": [
    {
     "name": "stdout",
     "output_type": "stream",
     "text": [
      "[('Charlie', 92), ('Alice', 85), ('David', 61)]\n"
     ]
    }
   ],
   "source": [
    "#Problem: Given a list of tuples representing students with their names and scores, \n",
    "#use a lambda function to sort the list by scores in descending order.\n",
    "#Then, filter out students who scored less than 60.\n",
    "\n",
    "students = [(\"Alice\", 85), (\"Bob\", 58), (\"Charlie\", 92), (\"David\", 61), (\"Eve\", 49)]\n",
    "stud = sorted(students, key = lambda x : x[1],reverse = True)\n",
    "passing = filter(lambda x : x[1] >= 60,stud)\n",
    "\n",
    "print(list(passing))"
   ]
  },
  {
   "cell_type": "code",
   "execution_count": 32,
   "id": "4bfe691b",
   "metadata": {},
   "outputs": [
    {
     "name": "stdout",
     "output_type": "stream",
     "text": [
      "65\n"
     ]
    }
   ],
   "source": [
    "# Problem 1: Sum of Positive Numbers\n",
    "# Problem: Given a list of numbers, use a lambda function to filter\n",
    "# out the positive numbers and then calculate their sum.\n",
    "\n",
    "numbers = [-10, 15, 20, -5, 0, 30]\n",
    "positive = filter(lambda x : x >= 0,numbers)\n",
    "summ = sum(positive)\n",
    "print(summ)\n",
    "\n"
   ]
  },
  {
   "cell_type": "code",
   "execution_count": 35,
   "id": "e2890db8",
   "metadata": {},
   "outputs": [
    {
     "name": "stdout",
     "output_type": "stream",
     "text": [
      "['apple', 'umbrella', 'orange', 'elephant']\n"
     ]
    }
   ],
   "source": [
    "#Problem 2: Words Starting with a Vowel\n",
    "#Problem: Given a list of words, use a lambda function to filter \n",
    "#out the words that start with a vowel (a, e, i, o, u).\n",
    "\n",
    "words = [\"apple\", \"banana\", \"umbrella\", \"orange\", \"grape\", \"elephant\"]\n",
    "\n",
    "vow = filter(lambda word : word[0].lower() in 'aeiou',words)\n",
    "print(list(vow))"
   ]
  },
  {
   "cell_type": "code",
   "execution_count": 37,
   "id": "1952b2d9",
   "metadata": {},
   "outputs": [
    {
     "name": "stdout",
     "output_type": "stream",
     "text": [
      "[6, 7, 8, 9, 10]\n"
     ]
    }
   ],
   "source": [
    "#Problem 3: Increment Each Element by 5\n",
    "#Problem: Given a list of numbers, use a lambda function \n",
    "#with map() to increment each element by 5.\n",
    "\n",
    "numbers = [1, 2, 3, 4, 5]\n",
    "incre = map(lambda x : x + 5,numbers)\n",
    "print(list(incre))"
   ]
  },
  {
   "cell_type": "code",
   "execution_count": 39,
   "id": "cfcdb390",
   "metadata": {},
   "outputs": [
    {
     "name": "stdout",
     "output_type": "stream",
     "text": [
      "[('banana', 1), ('cherry', 2), ('apple', 3)]\n"
     ]
    }
   ],
   "source": [
    "#Problem 4: Sort by Second Element in Tuples\n",
    "#Problem: Given a list of tuples where each tuple contains a string and an integer,\n",
    "#use a lambda function to sort the list by the second element of each tuple in ascending order.\n",
    "items = [(\"apple\", 3), (\"banana\", 1), (\"cherry\", 2)]\n",
    "\n",
    "assen = sorted(items, key = lambda x:x[1])\n",
    "print(assen)\n",
    "\n"
   ]
  },
  {
   "cell_type": "code",
   "execution_count": 41,
   "id": "7634a23c",
   "metadata": {},
   "outputs": [
    {
     "name": "stdout",
     "output_type": "stream",
     "text": [
      "[5, 5, 6, 6]\n"
     ]
    }
   ],
   "source": [
    "#Problem 5: Length of Each String\n",
    "#Problem: Given a list of strings, use a lambda function with map() \n",
    "#to create a list of the lengths of each string.\n",
    "\n",
    "strings = [\"hello\", \"world\", \"python\", \"lambda\"]\n",
    "\n",
    "# Get the length of each string\n",
    "lengths = map(lambda s: len(s), strings)\n",
    "\n",
    "print(list(lengths))  \n"
   ]
  },
  {
   "cell_type": "code",
   "execution_count": null,
   "id": "063551d8",
   "metadata": {},
   "outputs": [],
   "source": []
  }
 ],
 "metadata": {
  "kernelspec": {
   "display_name": "Python 3 (ipykernel)",
   "language": "python",
   "name": "python3"
  },
  "language_info": {
   "codemirror_mode": {
    "name": "ipython",
    "version": 3
   },
   "file_extension": ".py",
   "mimetype": "text/x-python",
   "name": "python",
   "nbconvert_exporter": "python",
   "pygments_lexer": "ipython3",
   "version": "3.9.13"
  }
 },
 "nbformat": 4,
 "nbformat_minor": 5
}
