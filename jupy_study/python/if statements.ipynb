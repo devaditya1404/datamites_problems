{
 "cells": [
  {
   "cell_type": "code",
   "execution_count": 8,
   "id": "c2971965",
   "metadata": {},
   "outputs": [
    {
     "name": "stdout",
     "output_type": "stream",
     "text": [
      "Enter Marks50\n",
      "Grade D\n"
     ]
    }
   ],
   "source": [
    "#python if problems\n",
    "\n",
    "#grade \n",
    "\n",
    "num = int(input(\"Enter Marks\"))\n",
    "if num > 90:\n",
    "    print(\"Grade A\")\n",
    "if num > 80 and num <= 90:\n",
    "    print(\"Grade B\")\n",
    "if num >= 60 and num <= 80:\n",
    "    print(\"Grade C\")\n",
    "if num < 60:\n",
    "    print(\"Grade D\")\n",
    "\n"
   ]
  },
  {
   "cell_type": "code",
   "execution_count": 13,
   "id": "6f30662b",
   "metadata": {},
   "outputs": [
    {
     "name": "stdout",
     "output_type": "stream",
     "text": [
      "Enter Bike Price 34500\n",
      "Tax to be paid 1725.0\n"
     ]
    }
   ],
   "source": [
    "# cost price of bike and required tax\n",
    "\n",
    "tax = 0\n",
    "\n",
    "pr = int(input(\"Enter Bike Price \"))\n",
    "\n",
    "if pr > 100000:\n",
    "    tax = 15/100*pr\n",
    "elif pr > 50000 and pr <= 100000:\n",
    "    tax = 10/100*pr\n",
    "else:\n",
    "    tax = 5/100*pr\n",
    "print(\"Tax to be paid\",tax)"
   ]
  },
  {
   "cell_type": "code",
   "execution_count": 16,
   "id": "e09b1901",
   "metadata": {},
   "outputs": [
    {
     "name": "stdout",
     "output_type": "stream",
     "text": [
      "Enter Year39\n",
      "This is not a leap year\n"
     ]
    }
   ],
   "source": [
    "# finding leap years\n",
    "\n",
    "yr = int(input(\"Enter Year\"))\n",
    "\n",
    "if yr % 100 == 0:\n",
    "    if yr % 400 == 0:\n",
    "        print(\"This is a leap year\")\n",
    "    else:\n",
    "        print(\"This is not a leap year\")\n",
    "else: \n",
    "    if yr % 4 == 0:\n",
    "        print(\"This is a leap year\")\n",
    "    else:\n",
    "        print(\"This is not a leap year\")"
   ]
  },
  {
   "cell_type": "code",
   "execution_count": 29,
   "id": "63af6ecf",
   "metadata": {},
   "outputs": [
    {
     "name": "stdout",
     "output_type": "stream",
     "text": [
      "Enter no 1 - 7 5\n",
      "Friday\n"
     ]
    }
   ],
   "source": [
    "no = int(input(\"Enter no 1 - 7 \"))\n",
    "\n",
    "if no <= 7:\n",
    "    #int(input(\"correct\"))\n",
    "    if no == 1:\n",
    "        print(\"Today is Monday\")\n",
    "    elif no == 2:\n",
    "        print(\"Tuesday\")\n",
    "    elif no == 3:\n",
    "        print(\"Wednesday\")\n",
    "    elif no == 4:\n",
    "        print(\"Thursday\")\n",
    "    elif no == 5:\n",
    "        print(\"Friday\")\n",
    "    elif no == 6:\n",
    "        print(\"Saturday\")\n",
    "    elif no == 7:\n",
    "        print(\"Sunday\")\n",
    "    else:\n",
    "        print(\"Enter valid choise\")"
   ]
  },
  {
   "cell_type": "markdown",
   "id": "a14e65c1",
   "metadata": {},
   "source": []
  },
  {
   "cell_type": "code",
   "execution_count": 9,
   "id": "59f0adff",
   "metadata": {},
   "outputs": [
    {
     "name": "stdout",
     "output_type": "stream",
     "text": [
      "Enter number 1-12: 13\n",
      "please enter valid number\n"
     ]
    }
   ],
   "source": [
    "num = int(input(\"Enter number 1-12: \"))\n",
    "month = num\n",
    "\n",
    "if   1 <= 12:\n",
    "    if month == 1:\n",
    "        print(\"This Month is January, contains 31days\")\n",
    "    \n",
    "    elif month == 2:\n",
    "        print(\"This Month is February, contains 28days\")\n",
    "    \n",
    "    elif month == 3:\n",
    "        print(\"This Month is March, contains 30 days\")\n",
    "    \n",
    "    elif month == 4:\n",
    "        print(\"this month is april, contains 31 days\")\n",
    "    \n",
    "    elif month == 5:\n",
    "        print(\"This month is may, contains 30 days\")\n",
    "    \n",
    "    elif month == 6:\n",
    "        print(\"this month is june, contains 31 days\")\n",
    "    \n",
    "    elif month == 7:\n",
    "        print(\"this month is july, contains 30 days\")\n",
    "    \n",
    "    elif month == 8:\n",
    "        print(\"this month is augest, contains 31 days\")\n",
    "    \n",
    "    elif month == 9:\n",
    "        print(\"this month is september, contains 30 days\")\n",
    "    \n",
    "    elif month == 10:\n",
    "        print(\"this month is october, contains 31 days\")\n",
    "    \n",
    "    elif month == 11:\n",
    "        print(\"this month is November, contains 30 days\")\n",
    "    \n",
    "    elif month == 12:\n",
    "        print(\"This month is December,contains 31 days\")\n",
    "        \n",
    "    else:\n",
    "        print(\"please enter valid number\")\n"
   ]
  },
  {
   "cell_type": "code",
   "execution_count": 16,
   "id": "916cb560",
   "metadata": {},
   "outputs": [
    {
     "name": "stdout",
     "output_type": "stream",
     "text": [
      "Enter city name: agra\n",
      "monument name is Taj Mahal\n"
     ]
    }
   ],
   "source": [
    "city = (input(\"Enter city name: \"))\n",
    "\n",
    "if city.lower() == \"delhi\":\n",
    "    print(\"monument name is Red Fort\")\n",
    "    \n",
    "elif city.lower() == \"agra\":\n",
    "        print(\"monument name is Taj Mahal\")    \n",
    "elif city.lower() == \"jaipur\":\n",
    "        print(\"monument name is JalMahal\")\n",
    "else:\n",
    "        print(\"Please type again\")"
   ]
  },
  {
   "cell_type": "code",
   "execution_count": 17,
   "id": "ff8f848b",
   "metadata": {},
   "outputs": [
    {
     "name": "stdout",
     "output_type": "stream",
     "text": [
      "Hello\n"
     ]
    }
   ],
   "source": [
    "a = 9\n",
    "\n",
    "if (a > 5 and a <= 10):\n",
    "    print(\"Hello\")\n",
    "else:\n",
    "    print(\"bye\")"
   ]
  },
  {
   "cell_type": "code",
   "execution_count": 26,
   "id": "2f9ed718",
   "metadata": {},
   "outputs": [
    {
     "name": "stdout",
     "output_type": "stream",
     "text": [
      "Enter any number3454\n",
      "Its a not digit number\n"
     ]
    }
   ],
   "source": [
    "num = (input(\"Enter any number\"))\n",
    "l = len(num)\n",
    "if l != 3:\n",
    "    print(\"Its a not digit number\")\n",
    "else:\n",
    "    print(\"The number you entered is  three digit\")"
   ]
  },
  {
   "cell_type": "code",
   "execution_count": null,
   "id": "815847e0",
   "metadata": {},
   "outputs": [],
   "source": []
  }
 ],
 "metadata": {
  "kernelspec": {
   "display_name": "Python 3 (ipykernel)",
   "language": "python",
   "name": "python3"
  },
  "language_info": {
   "codemirror_mode": {
    "name": "ipython",
    "version": 3
   },
   "file_extension": ".py",
   "mimetype": "text/x-python",
   "name": "python",
   "nbconvert_exporter": "python",
   "pygments_lexer": "ipython3",
   "version": "3.9.13"
  }
 },
 "nbformat": 4,
 "nbformat_minor": 5
}
