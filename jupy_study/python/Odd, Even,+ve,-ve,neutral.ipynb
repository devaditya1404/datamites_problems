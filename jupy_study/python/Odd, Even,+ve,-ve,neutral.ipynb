{
 "cells": [
  {
   "cell_type": "code",
   "execution_count": 4,
   "id": "a47d31dc",
   "metadata": {},
   "outputs": [
    {
     "name": "stdout",
     "output_type": "stream",
     "text": [
      "Enter the value10\n",
      "10 is Even\n"
     ]
    }
   ],
   "source": [
    "## ODD EVEN PROGRAM\n",
    "\n",
    "num = int(input(\"Enter the value\"))\n",
    "if (num % 2) == 0:\n",
    "    print(\"{0} is Even\".format(num))\n",
    "else:\n",
    "    print(\"{0} is Odd\".format(num))"
   ]
  },
  {
   "cell_type": "markdown",
   "id": "be5ddd74",
   "metadata": {},
   "source": [
    "# positive , negative, neutral\n",
    "num = int(input(\"Enter the Value\"))\n",
    "if (num < 0):\n",
    "    print(\"The Entered value is Negative\")\n",
    "elif (num > 0):\n",
    "    print(\"The Entered value is Positive\")\n",
    "else: \n",
    "    print(\"The Entered value is Neutral\")"
   ]
  },
  {
   "cell_type": "code",
   "execution_count": null,
   "id": "1e9b3ecd",
   "metadata": {},
   "outputs": [],
   "source": []
  }
 ],
 "metadata": {
  "kernelspec": {
   "display_name": "Python 3 (ipykernel)",
   "language": "python",
   "name": "python3"
  },
  "language_info": {
   "codemirror_mode": {
    "name": "ipython",
    "version": 3
   },
   "file_extension": ".py",
   "mimetype": "text/x-python",
   "name": "python",
   "nbconvert_exporter": "python",
   "pygments_lexer": "ipython3",
   "version": "3.9.13"
  }
 },
 "nbformat": 4,
 "nbformat_minor": 5
}
