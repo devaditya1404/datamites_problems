{
 "cells": [
  {
   "cell_type": "code",
   "execution_count": 6,
   "id": "55b19db3",
   "metadata": {},
   "outputs": [
    {
     "name": "stdout",
     "output_type": "stream",
     "text": [
      "The distance is 9000 metres\n"
     ]
    }
   ],
   "source": [
    "#time and speed (distance)\n",
    "\n",
    "s = 30 \n",
    "t = 300 #in seconds\n",
    "\n",
    "d = 0\n",
    "\n",
    "d = s*t\n",
    "print(f\"The distance is {d} metres\")"
   ]
  },
  {
   "cell_type": "code",
   "execution_count": 8,
   "id": "c2532754",
   "metadata": {},
   "outputs": [
    {
     "name": "stdout",
     "output_type": "stream",
     "text": [
      "Enter radius of circle: 4\n",
      "The area of the circle is 50.27 square units.\n"
     ]
    }
   ],
   "source": [
    "import math\n",
    "\n",
    "# Input the radius of the circle\n",
    "radius = float(input(\"Enter radius of circle: \"))\n",
    "\n",
    "# Ensure the radius is non-negative\n",
    "if radius < 0:\n",
    "    print(\"The radius cannot be negative.\")\n",
    "else:\n",
    "    # Calculate the area of the circle\n",
    "    area = math.pi * radius ** 2\n",
    "\n",
    "    # Output the area\n",
    "    print(f\"The area of the circle is {area:.2f} square units.\")\n"
   ]
  },
  {
   "cell_type": "code",
   "execution_count": null,
   "id": "0e22b38d",
   "metadata": {},
   "outputs": [],
   "source": []
  }
 ],
 "metadata": {
  "kernelspec": {
   "display_name": "Python 3 (ipykernel)",
   "language": "python",
   "name": "python3"
  },
  "language_info": {
   "codemirror_mode": {
    "name": "ipython",
    "version": 3
   },
   "file_extension": ".py",
   "mimetype": "text/x-python",
   "name": "python",
   "nbconvert_exporter": "python",
   "pygments_lexer": "ipython3",
   "version": "3.9.13"
  }
 },
 "nbformat": 4,
 "nbformat_minor": 5
}
