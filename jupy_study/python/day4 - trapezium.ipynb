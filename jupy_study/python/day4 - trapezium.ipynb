{
 "cells": [
  {
   "cell_type": "code",
   "execution_count": 17,
   "id": "d6b9ff31",
   "metadata": {},
   "outputs": [
    {
     "name": "stdout",
     "output_type": "stream",
     "text": [
      "Enter the radius of the hemisphere: 5\n",
      "Total Surface Area: 235.61944901923448\n"
     ]
    }
   ],
   "source": [
    "#hemisphere\n",
    "\n",
    "import math\n",
    "\n",
    "r = float(input(\"Enter the radius of the hemisphere: \"))\n",
    "while r < 0:\n",
    "    r = float(input(\"Radius cannot be negative. Enter a positive value: \"))\n",
    "\n",
    "total_surface_area = 3 * math.pi * r**2\n",
    "\n",
    "print(f\"Total Surface Area: {total_surface_area}\")\n"
   ]
  },
  {
   "cell_type": "code",
   "execution_count": 22,
   "id": "55b35e9c",
   "metadata": {},
   "outputs": [
    {
     "name": "stdout",
     "output_type": "stream",
     "text": [
      "Enter the radius of the hemisphere: 5\n",
      "Total Surface Area: 104.71975511965977\n"
     ]
    }
   ],
   "source": [
    "#sphere\n",
    "import math\n",
    "\n",
    "r = float(input(\"Enter the radius of the hemisphere: \"))\n",
    "while r < 0:\n",
    "    r = float(input(\"Radius cannot be negative. Enter a positive value: \"))\n",
    "\n",
    "total_surface_area = 4/3 * math.pi * r**2\n",
    "\n",
    "print(f\"Total Surface Area: {total_surface_area}\")\n"
   ]
  },
  {
   "cell_type": "code",
   "execution_count": 23,
   "id": "f54bb09f",
   "metadata": {},
   "outputs": [
    {
     "name": "stdout",
     "output_type": "stream",
     "text": [
      "enter 1st value5\n",
      "enter 2nd value5\n",
      "enter 3rd value5\n",
      "area of trapezoid is 25.0\n"
     ]
    }
   ],
   "source": [
    "a = int(input(\"enter 1st value\"))\n",
    "b = int(input(\"enter 2nd value\"))\n",
    "c = int(input(\"enter 3rd value\"))\n",
    "\n",
    "while a < 0:\n",
    "    print(\"All value must be positive\")\n",
    "    a = float(input(\"enter 1st value\"))\n",
    "    b = float(input(\"enter 2nd value\"))\n",
    "    c = float(input(\"enter height\"))\n",
    "\n",
    "area = 0.5 * (a + b) * c\n",
    "print(f\"area of trapezoid is {area}\")"
   ]
  },
  {
   "cell_type": "code",
   "execution_count": null,
   "id": "4d3f8113",
   "metadata": {},
   "outputs": [],
   "source": []
  }
 ],
 "metadata": {
  "kernelspec": {
   "display_name": "Python 3 (ipykernel)",
   "language": "python",
   "name": "python3"
  },
  "language_info": {
   "codemirror_mode": {
    "name": "ipython",
    "version": 3
   },
   "file_extension": ".py",
   "mimetype": "text/x-python",
   "name": "python",
   "nbconvert_exporter": "python",
   "pygments_lexer": "ipython3",
   "version": "3.9.13"
  }
 },
 "nbformat": 4,
 "nbformat_minor": 5
}
