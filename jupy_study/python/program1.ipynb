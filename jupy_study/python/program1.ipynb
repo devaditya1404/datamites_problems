{
 "cells": [
  {
   "cell_type": "code",
   "execution_count": 1,
   "id": "3f60eec0",
   "metadata": {},
   "outputs": [],
   "source": [
    "def show_balance():\n",
    "    pass"
   ]
  },
  {
   "cell_type": "code",
   "execution_count": 2,
   "id": "c221b5d8",
   "metadata": {},
   "outputs": [],
   "source": [
    "def deposit():\n",
    "    pass"
   ]
  },
  {
   "cell_type": "code",
   "execution_count": 4,
   "id": "106802a7",
   "metadata": {},
   "outputs": [],
   "source": [
    "def withdraw():\n",
    "    pass"
   ]
  },
  {
   "cell_type": "code",
   "execution_count": 10,
   "id": "2c3e89a7",
   "metadata": {},
   "outputs": [],
   "source": [
    "balance = 0\n",
    "is_running = True"
   ]
  },
  {
   "cell_type": "code",
   "execution_count": null,
   "id": "81e77121",
   "metadata": {},
   "outputs": [
    {
     "name": "stdout",
     "output_type": "stream",
     "text": [
      "Banking Program\n",
      "1.Show Balance\n",
      "2.Deposit\n",
      "3.Withdraw\n",
      "4.Exit\n",
      "Enter your choice (1-4)1\n",
      "Banking Program\n",
      "1.Show Balance\n",
      "2.Deposit\n",
      "3.Withdraw\n",
      "4.Exit\n",
      "Enter your choice (1-4)2\n",
      "Banking Program\n",
      "1.Show Balance\n",
      "2.Deposit\n",
      "3.Withdraw\n",
      "4.Exit\n",
      "Enter your choice (1-4)3\n",
      "Banking Program\n",
      "1.Show Balance\n",
      "2.Deposit\n",
      "3.Withdraw\n",
      "4.Exit\n",
      "Enter your choice (1-4)4\n",
      "Please enter correct choice\n",
      "Banking Program\n",
      "1.Show Balance\n",
      "2.Deposit\n",
      "3.Withdraw\n",
      "4.Exit\n",
      "Enter your choice (1-4)4\n",
      "Please enter correct choice\n",
      "Banking Program\n",
      "1.Show Balance\n",
      "2.Deposit\n",
      "3.Withdraw\n",
      "4.Exit\n"
     ]
    }
   ],
   "source": [
    "while is_running:\n",
    "    print(\"Banking Program\")\n",
    "    print(\"1.Show Balance\")\n",
    "    print(\"2.Deposit\")\n",
    "    print(\"3.Withdraw\")\n",
    "    print(\"4.Exit\")\n",
    "    \n",
    "    choice = input(\"Enter your choice (1-4)\")\n",
    "    \n",
    "    if choice == '1':\n",
    "        show_balance()\n",
    "    \n",
    "    elif choice == '2':\n",
    "        deposit()\n",
    "    \n",
    "    elif choice == '3':\n",
    "        withdraw()\n",
    "    \n",
    "    elif choice == 4:\n",
    "        isRunning = False\n",
    "        \n",
    "    else:\n",
    "        print(\"Please enter correct choice\")\n",
    "    \n",
    "    "
   ]
  },
  {
   "cell_type": "code",
   "execution_count": null,
   "id": "58838d19",
   "metadata": {},
   "outputs": [],
   "source": []
  }
 ],
 "metadata": {
  "kernelspec": {
   "display_name": "Python 3 (ipykernel)",
   "language": "python",
   "name": "python3"
  },
  "language_info": {
   "codemirror_mode": {
    "name": "ipython",
    "version": 3
   },
   "file_extension": ".py",
   "mimetype": "text/x-python",
   "name": "python",
   "nbconvert_exporter": "python",
   "pygments_lexer": "ipython3",
   "version": "3.9.13"
  }
 },
 "nbformat": 4,
 "nbformat_minor": 5
}
