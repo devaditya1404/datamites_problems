{
 "cells": [
  {
   "cell_type": "code",
   "execution_count": 12,
   "id": "851ff5ab",
   "metadata": {},
   "outputs": [],
   "source": [
    "#functions"
   ]
  },
  {
   "cell_type": "code",
   "execution_count": 3,
   "id": "25c472b6",
   "metadata": {},
   "outputs": [
    {
     "name": "stdout",
     "output_type": "stream",
     "text": [
      "Aditya\n"
     ]
    }
   ],
   "source": [
    "def f():\n",
    "\n",
    "    # local variable\n",
    "    s = \"Aditya\"\n",
    "    print(s)\n",
    "\n",
    "\n",
    "# Driver code\n",
    "f()\n"
   ]
  },
  {
   "cell_type": "code",
   "execution_count": 6,
   "id": "5c56cb60",
   "metadata": {},
   "outputs": [
    {
     "name": "stdout",
     "output_type": "stream",
     "text": [
      "Hello I'm Aditya\n"
     ]
    }
   ],
   "source": [
    "def f():\n",
    "\n",
    "    # local variable\n",
    "    s = \"I'm Aditya\"\n",
    "    \n",
    "    print(\"Hello\",s)\n",
    "\n",
    "\n",
    "# Driver code\n",
    "f()\n"
   ]
  },
  {
   "cell_type": "code",
   "execution_count": 7,
   "id": "836c5e16",
   "metadata": {},
   "outputs": [
    {
     "name": "stdout",
     "output_type": "stream",
     "text": [
      "Inside Function I'm Aditya\n",
      "Outside Function I'm Aditya\n"
     ]
    }
   ],
   "source": [
    "# This function uses global variable s\n",
    "def f():\n",
    "    print(\"Inside Function\", s)\n",
    "\n",
    "# Global scope\n",
    "s = \"I'm Aditya\"\n",
    "f()\n",
    "print(\"Outside Function\", s)\n"
   ]
  },
  {
   "cell_type": "code",
   "execution_count": 8,
   "id": "0f367e38",
   "metadata": {},
   "outputs": [
    {
     "name": "stdout",
     "output_type": "stream",
     "text": [
      "Me too.\n",
      "I Aditya \n"
     ]
    }
   ],
   "source": [
    "# This function has a variable with\n",
    "# name same as s.\n",
    "def f():\n",
    "    s = \"Me too.\"\n",
    "    print(s)\n",
    "\n",
    "# Global scope\n",
    "s = \"I Aditya \"\n",
    "f()\n",
    "print(s)\n"
   ]
  },
  {
   "cell_type": "code",
   "execution_count": 9,
   "id": "8697bb63",
   "metadata": {},
   "outputs": [
    {
     "ename": "UnboundLocalError",
     "evalue": "local variable 's' referenced before assignment",
     "output_type": "error",
     "traceback": [
      "\u001b[0;31m---------------------------------------------------------------------------\u001b[0m",
      "\u001b[0;31mUnboundLocalError\u001b[0m                         Traceback (most recent call last)",
      "\u001b[0;32m/var/folders/rq/820y49n50_77y098gpbk73sm0000gn/T/ipykernel_21628/1617404796.py\u001b[0m in \u001b[0;36m<module>\u001b[0;34m\u001b[0m\n\u001b[1;32m      7\u001b[0m \u001b[0;31m# Global scope\u001b[0m\u001b[0;34m\u001b[0m\u001b[0;34m\u001b[0m\u001b[0m\n\u001b[1;32m      8\u001b[0m \u001b[0ms\u001b[0m \u001b[0;34m=\u001b[0m \u001b[0;34m\"I aditya\"\u001b[0m\u001b[0;34m\u001b[0m\u001b[0;34m\u001b[0m\u001b[0m\n\u001b[0;32m----> 9\u001b[0;31m \u001b[0mf\u001b[0m\u001b[0;34m(\u001b[0m\u001b[0;34m)\u001b[0m\u001b[0;34m\u001b[0m\u001b[0;34m\u001b[0m\u001b[0m\n\u001b[0m",
      "\u001b[0;32m/var/folders/rq/820y49n50_77y098gpbk73sm0000gn/T/ipykernel_21628/1617404796.py\u001b[0m in \u001b[0;36mf\u001b[0;34m()\u001b[0m\n\u001b[1;32m      1\u001b[0m \u001b[0;31m# This function uses global variable s\u001b[0m\u001b[0;34m\u001b[0m\u001b[0;34m\u001b[0m\u001b[0m\n\u001b[1;32m      2\u001b[0m \u001b[0;32mdef\u001b[0m \u001b[0mf\u001b[0m\u001b[0;34m(\u001b[0m\u001b[0;34m)\u001b[0m\u001b[0;34m:\u001b[0m\u001b[0;34m\u001b[0m\u001b[0;34m\u001b[0m\u001b[0m\n\u001b[0;32m----> 3\u001b[0;31m     \u001b[0ms\u001b[0m \u001b[0;34m+=\u001b[0m \u001b[0;34m'ADI'\u001b[0m\u001b[0;34m\u001b[0m\u001b[0;34m\u001b[0m\u001b[0m\n\u001b[0m\u001b[1;32m      4\u001b[0m     \u001b[0mprint\u001b[0m\u001b[0;34m(\u001b[0m\u001b[0;34m\"Inside Function\"\u001b[0m\u001b[0;34m,\u001b[0m \u001b[0ms\u001b[0m\u001b[0;34m)\u001b[0m\u001b[0;34m\u001b[0m\u001b[0;34m\u001b[0m\u001b[0m\n\u001b[1;32m      5\u001b[0m \u001b[0;34m\u001b[0m\u001b[0m\n",
      "\u001b[0;31mUnboundLocalError\u001b[0m: local variable 's' referenced before assignment"
     ]
    }
   ],
   "source": [
    "# This function uses global variable s\n",
    "def f():\n",
    "    s += 'ADI'\n",
    "    print(\"Inside Function\", s)\n",
    "\n",
    "\n",
    "# Global scope\n",
    "s = \"I aditya\"\n",
    "f()\n"
   ]
  },
  {
   "cell_type": "code",
   "execution_count": 10,
   "id": "d14f7d77",
   "metadata": {},
   "outputs": [
    {
     "name": "stdout",
     "output_type": "stream",
     "text": [
      "Python is great! ADI\n",
      "hello world\n",
      "hello world\n"
     ]
    }
   ],
   "source": [
    "# This function modifies the global variable 's'\n",
    "def f():\n",
    "    global s\n",
    "    s += ' ADI'\n",
    "    print(s)\n",
    "    s = \"hello world\"\n",
    "    print(s) \n",
    "\n",
    "# Global Scope\n",
    "s = \"Python is great!\" \n",
    "f()\n",
    "print(s)\n"
   ]
  },
  {
   "cell_type": "code",
   "execution_count": 11,
   "id": "1658d75f",
   "metadata": {},
   "outputs": [
    {
     "name": "stdout",
     "output_type": "stream",
     "text": [
      "global :  1\n",
      "Inside f() :  1\n",
      "global :  1\n",
      "Inside g() :  2\n",
      "global :  1\n",
      "Inside h() :  3\n",
      "global :  3\n"
     ]
    }
   ],
   "source": [
    "a = 1\n",
    "\n",
    "# Uses global because there is no local 'a'\n",
    "def f():\n",
    "    print('Inside f() : ', a)\n",
    "\n",
    "# Variable 'a' is redefined as a local\n",
    "def g():\n",
    "    a = 2\n",
    "    print('Inside g() : ', a)\n",
    "\n",
    "# Uses global keyword to modify global 'a'\n",
    "def h():\n",
    "    global a\n",
    "    a = 3\n",
    "    print('Inside h() : ', a)\n",
    "\n",
    "\n",
    "# Global scope\n",
    "print('global : ', a)\n",
    "f()\n",
    "print('global : ', a)\n",
    "g()\n",
    "print('global : ', a)\n",
    "h()\n",
    "print('global : ', a)\n",
    "\n"
   ]
  },
  {
   "cell_type": "code",
   "execution_count": null,
   "id": "28f82454",
   "metadata": {},
   "outputs": [],
   "source": []
  }
 ],
 "metadata": {
  "kernelspec": {
   "display_name": "Python 3 (ipykernel)",
   "language": "python",
   "name": "python3"
  },
  "language_info": {
   "codemirror_mode": {
    "name": "ipython",
    "version": 3
   },
   "file_extension": ".py",
   "mimetype": "text/x-python",
   "name": "python",
   "nbconvert_exporter": "python",
   "pygments_lexer": "ipython3",
   "version": "3.9.13"
  }
 },
 "nbformat": 4,
 "nbformat_minor": 5
}
