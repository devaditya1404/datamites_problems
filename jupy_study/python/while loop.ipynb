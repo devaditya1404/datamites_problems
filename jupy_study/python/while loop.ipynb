{
 "cells": [
  {
   "cell_type": "code",
   "execution_count": 1,
   "id": "d64f739a",
   "metadata": {},
   "outputs": [
    {
     "name": "stdout",
     "output_type": "stream",
     "text": [
      "0\n",
      "1\n",
      "2\n",
      "3\n",
      "4\n",
      "5\n",
      "6\n",
      "7\n",
      "8\n",
      "9\n",
      "10\n",
      "hello\n"
     ]
    }
   ],
   "source": [
    "a = 0\n",
    "while (a <= 10):\n",
    "    print(a)\n",
    "    a = a + 1\n",
    "print (\"hello\")"
   ]
  },
  {
   "cell_type": "code",
   "execution_count": 4,
   "id": "98104f34",
   "metadata": {},
   "outputs": [
    {
     "name": "stdout",
     "output_type": "stream",
     "text": [
      "Enter any value2\n",
      "1 x 2 = 2\n",
      "2 x 2 = 4\n",
      "3 x 2 = 6\n",
      "4 x 2 = 8\n",
      "5 x 2 = 10\n",
      "6 x 2 = 12\n",
      "7 x 2 = 14\n",
      "8 x 2 = 16\n",
      "9 x 2 = 18\n",
      "10 x 2 = 20\n"
     ]
    }
   ],
   "source": [
    "num = int(input(\"Enter any value\"))\n",
    "multiplier = num\n",
    "\n",
    "counter = 1\n",
    "  \n",
    "while counter <= 10: \n",
    "    result = counter * multiplier\n",
    "    print(f\"{counter} x {multiplier} = {result}\") \n",
    "    counter += 1"
   ]
  },
  {
   "cell_type": "code",
   "execution_count": 1,
   "id": "bebd7ffd",
   "metadata": {},
   "outputs": [
    {
     "name": "stdout",
     "output_type": "stream",
     "text": [
      "2\n",
      "2\n",
      "4\n",
      "6\n",
      "8\n",
      "10\n",
      "12\n",
      "14\n",
      "16\n",
      "18\n",
      "20\n"
     ]
    }
   ],
   "source": [
    "num = int(input())\n",
    "a = 1\n",
    "while(a<=10):\n",
    "    print(a*num)\n",
    "    a = a+1"
   ]
  },
  {
   "cell_type": "code",
   "execution_count": 11,
   "id": "d69d225f",
   "metadata": {},
   "outputs": [
    {
     "name": "stdout",
     "output_type": "stream",
     "text": [
      "enter a number: 5\n",
      "factorial of  5  is  120\n"
     ]
    }
   ],
   "source": [
    "num = int(input(\"enter a number: \"))\n",
    "\n",
    "fac = 1\n",
    "i = 1\n",
    "\n",
    "while i <= num:\n",
    "    fac = fac * i\n",
    "    i = i + 1\n",
    "\n",
    "print(\"factorial of \", num, \" is \", fac)"
   ]
  },
  {
   "cell_type": "code",
   "execution_count": 17,
   "id": "aff1662e",
   "metadata": {},
   "outputs": [
    {
     "name": "stdout",
     "output_type": "stream",
     "text": [
      "3\n",
      "factorial of num is 6\n"
     ]
    }
   ],
   "source": [
    "num = int(input())\n",
    "f = 1\n",
    "while num >= 1:\n",
    "    f*= num\n",
    "    num -= 1\n",
    "print(\"factorial of num is\", f)"
   ]
  },
  {
   "cell_type": "code",
   "execution_count": 18,
   "id": "ab8bea01",
   "metadata": {},
   "outputs": [
    {
     "ename": "SyntaxError",
     "evalue": "invalid syntax (3101967094.py, line 4)",
     "output_type": "error",
     "traceback": [
      "\u001b[0;36m  File \u001b[0;32m\"/var/folders/rq/820y49n50_77y098gpbk73sm0000gn/T/ipykernel_51028/3101967094.py\"\u001b[0;36m, line \u001b[0;32m4\u001b[0m\n\u001b[0;31m    f =\u001b[0m\n\u001b[0m        ^\u001b[0m\n\u001b[0;31mSyntaxError\u001b[0m\u001b[0;31m:\u001b[0m invalid syntax\n"
     ]
    }
   ],
   "source": [
    "num = int(input())\n",
    "f = 1\n",
    "while (num<=f):\n",
    "    f = "
   ]
  },
  {
   "cell_type": "code",
   "execution_count": 40,
   "id": "ac0c8122",
   "metadata": {},
   "outputs": [
    {
     "name": "stdout",
     "output_type": "stream",
     "text": [
      "6\n"
     ]
    }
   ],
   "source": [
    "#123 = 1+2+3 = 6\n",
    "number = 123\n",
    "sums = 0\n",
    "\n",
    "while number > 0:\n",
    "    sums += number % 10\n",
    "    number //= 10\n",
    "\n",
    "print(sums)"
   ]
  },
  {
   "cell_type": "code",
   "execution_count": null,
   "id": "90ea0795",
   "metadata": {},
   "outputs": [],
   "source": [
    "#Assignment-------\n",
    "# 1. Reverse the user defined number.\n",
    "# 2. Palindrome check the given no.\n",
    "# 3. Base and power question( m and n i.e 2 ^ 3) without using (**)arithmetic eqn.\n",
    "# 4. check the number is armstrong no. \n"
   ]
  }
 ],
 "metadata": {
  "kernelspec": {
   "display_name": "Python 3 (ipykernel)",
   "language": "python",
   "name": "python3"
  },
  "language_info": {
   "codemirror_mode": {
    "name": "ipython",
    "version": 3
   },
   "file_extension": ".py",
   "mimetype": "text/x-python",
   "name": "python",
   "nbconvert_exporter": "python",
   "pygments_lexer": "ipython3",
   "version": "3.9.13"
  }
 },
 "nbformat": 4,
 "nbformat_minor": 5
}
