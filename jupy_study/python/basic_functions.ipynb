{
 "cells": [
  {
   "cell_type": "code",
   "execution_count": 9,
   "id": "65adcfe4",
   "metadata": {},
   "outputs": [],
   "source": [
    "#functions practice\n",
    "def greet(name):\n",
    "    print(\"Hello \"+name+\"!\")"
   ]
  },
  {
   "cell_type": "markdown",
   "id": "7e2c706b",
   "metadata": {},
   "source": [
    "name = aditya"
   ]
  },
  {
   "cell_type": "code",
   "execution_count": 11,
   "id": "9ae44690",
   "metadata": {},
   "outputs": [
    {
     "name": "stdout",
     "output_type": "stream",
     "text": [
      "Hello Aditya!\n"
     ]
    }
   ],
   "source": [
    "greet(\"Aditya\")"
   ]
  },
  {
   "cell_type": "code",
   "execution_count": 13,
   "id": "bab4264c",
   "metadata": {},
   "outputs": [
    {
     "name": "stdout",
     "output_type": "stream",
     "text": [
      "7\n"
     ]
    }
   ],
   "source": [
    "def addition(a,b):\n",
    "    return a + b\n",
    "res = addition(3,4)\n",
    "print(res)"
   ]
  },
  {
   "cell_type": "code",
   "execution_count": 15,
   "id": "c1fbdee0",
   "metadata": {},
   "outputs": [
    {
     "name": "stdout",
     "output_type": "stream",
     "text": [
      "Hello World\n"
     ]
    }
   ],
   "source": [
    "def hello():\n",
    "    print(\"Hello World\")\n",
    "hello()"
   ]
  },
  {
   "cell_type": "code",
   "execution_count": 16,
   "id": "1cbec288",
   "metadata": {},
   "outputs": [
    {
     "name": "stdout",
     "output_type": "stream",
     "text": [
      "6\n"
     ]
    }
   ],
   "source": [
    "def multiply(a,b):\n",
    "    return a * b\n",
    "res = multiply(2,3)\n",
    "print(res)"
   ]
  },
  {
   "cell_type": "code",
   "execution_count": 20,
   "id": "06edd164",
   "metadata": {},
   "outputs": [
    {
     "name": "stdout",
     "output_type": "stream",
     "text": [
      "Hello guest!\n",
      "Hello Aditya!\n"
     ]
    }
   ],
   "source": [
    "#Function with Default Parameter Value\n",
    "def greet(name = 'guest'):\n",
    "    print('Hello '+name+ \"!\")\n",
    "greet()\n",
    "greet(\"Aditya\")"
   ]
  },
  {
   "cell_type": "code",
   "execution_count": 21,
   "id": "049aae7a",
   "metadata": {},
   "outputs": [
    {
     "name": "stdout",
     "output_type": "stream",
     "text": [
      "49\n"
     ]
    }
   ],
   "source": [
    "def square(a):\n",
    "    return a*a\n",
    "res = square(7)\n",
    "print(res)"
   ]
  },
  {
   "cell_type": "code",
   "execution_count": 41,
   "id": "73692125",
   "metadata": {},
   "outputs": [
    {
     "name": "stdout",
     "output_type": "stream",
     "text": [
      " Hello \n",
      " World\n"
     ]
    },
    {
     "data": {
      "text/plain": [
       "'Hello World'"
      ]
     },
     "execution_count": 41,
     "metadata": {},
     "output_type": "execute_result"
    }
   ],
   "source": [
    "def concatenate(str1, str2):\n",
    "    print(\"\", str1)\n",
    "    print(\"\", str2)\n",
    "    return str1 + str2\n",
    "    \n",
    "concatenate(\"Hello \",\"World\")"
   ]
  },
  {
   "cell_type": "code",
   "execution_count": 34,
   "id": "ee668ead",
   "metadata": {},
   "outputs": [
    {
     "name": "stdout",
     "output_type": "stream",
     "text": [
      "20.0\n"
     ]
    }
   ],
   "source": [
    "#average\n",
    "def average(a,b,c):\n",
    "    return (a + b + c)/3\n",
    "res = average(10,20,30)\n",
    "print (res)"
   ]
  },
  {
   "cell_type": "code",
   "execution_count": 38,
   "id": "04d96014",
   "metadata": {},
   "outputs": [
    {
     "name": "stdout",
     "output_type": "stream",
     "text": [
      "Name: Aditya\n",
      "Age: 25\n"
     ]
    }
   ],
   "source": [
    "def introduce(name, age):\n",
    "    print(\"Name:\", name)\n",
    "    print(\"Age:\", age)\n",
    "\n",
    "# Calling the function with arguments\n",
    "introduce(\"Aditya\", 25)\n"
   ]
  },
  {
   "cell_type": "code",
   "execution_count": null,
   "id": "23d85481",
   "metadata": {},
   "outputs": [],
   "source": []
  }
 ],
 "metadata": {
  "kernelspec": {
   "display_name": "Python 3 (ipykernel)",
   "language": "python",
   "name": "python3"
  },
  "language_info": {
   "codemirror_mode": {
    "name": "ipython",
    "version": 3
   },
   "file_extension": ".py",
   "mimetype": "text/x-python",
   "name": "python",
   "nbconvert_exporter": "python",
   "pygments_lexer": "ipython3",
   "version": "3.9.13"
  }
 },
 "nbformat": 4,
 "nbformat_minor": 5
}
