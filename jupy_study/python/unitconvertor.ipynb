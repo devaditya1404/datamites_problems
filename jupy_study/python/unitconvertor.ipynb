{
 "cells": [
  {
   "cell_type": "code",
   "execution_count": 5,
   "id": "1093026a",
   "metadata": {},
   "outputs": [],
   "source": [
    "from package import unitconvertor"
   ]
  },
  {
   "cell_type": "code",
   "execution_count": 6,
   "id": "0e99f1b2",
   "metadata": {},
   "outputs": [
    {
     "data": {
      "text/plain": [
       "86.0"
      ]
     },
     "execution_count": 6,
     "metadata": {},
     "output_type": "execute_result"
    }
   ],
   "source": [
    "unitconvertor.celsius_to_fahrenheit(30)"
   ]
  },
  {
   "cell_type": "code",
   "execution_count": 7,
   "id": "883f2f6b",
   "metadata": {},
   "outputs": [
    {
     "data": {
      "text/plain": [
       "10.0"
      ]
     },
     "execution_count": 7,
     "metadata": {},
     "output_type": "execute_result"
    }
   ],
   "source": [
    "unitconvertor.fahrenheit_to_celsius(50)"
   ]
  },
  {
   "cell_type": "code",
   "execution_count": 8,
   "id": "8b04c62c",
   "metadata": {},
   "outputs": [
    {
     "data": {
      "text/plain": [
       "400.72566"
      ]
     },
     "execution_count": 8,
     "metadata": {},
     "output_type": "execute_result"
    }
   ],
   "source": [
    "unitconvertor.miles_to_kilometers(249)"
   ]
  },
  {
   "cell_type": "code",
   "execution_count": 9,
   "id": "30d669cf",
   "metadata": {},
   "outputs": [
    {
     "data": {
      "text/plain": [
       "31.068636832490338"
      ]
     },
     "execution_count": 9,
     "metadata": {},
     "output_type": "execute_result"
    }
   ],
   "source": [
    "unitconvertor.kilometers_to_miles(50)"
   ]
  },
  {
   "cell_type": "code",
   "execution_count": null,
   "id": "b4a87710",
   "metadata": {},
   "outputs": [],
   "source": []
  }
 ],
 "metadata": {
  "kernelspec": {
   "display_name": "Python 3 (ipykernel)",
   "language": "python",
   "name": "python3"
  },
  "language_info": {
   "codemirror_mode": {
    "name": "ipython",
    "version": 3
   },
   "file_extension": ".py",
   "mimetype": "text/x-python",
   "name": "python",
   "nbconvert_exporter": "python",
   "pygments_lexer": "ipython3",
   "version": "3.9.13"
  }
 },
 "nbformat": 4,
 "nbformat_minor": 5
}
