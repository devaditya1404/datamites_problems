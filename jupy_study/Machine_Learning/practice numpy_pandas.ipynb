{
 "cells": [
  {
   "cell_type": "code",
   "execution_count": 1,
   "id": "d3db84c8-619b-4de3-94b8-3b223d71cd4a",
   "metadata": {},
   "outputs": [],
   "source": [
    "import pandas as pd"
   ]
  },
  {
   "cell_type": "code",
   "execution_count": 2,
   "id": "72077c87-0113-479e-baa4-8334ca6e65d2",
   "metadata": {},
   "outputs": [
    {
     "name": "stdout",
     "output_type": "stream",
     "text": [
      "     Name  Age      city\n",
      "0  Aditya   22  New York\n",
      "1   James   23        LA\n",
      "2    Buck   25   Chicago\n"
     ]
    }
   ],
   "source": [
    "data = {\n",
    "    'Name' : ['Aditya','James','Buck'],\n",
    "    'Age' : [22,23,25],\n",
    "    'city' : ['New York','LA','Chicago']\n",
    "}\n",
    "df = pd.DataFrame(data)\n",
    "print(df)"
   ]
  },
  {
   "cell_type": "code",
   "execution_count": 3,
   "id": "394fd70e-a507-4a07-824f-5f001ffaa5da",
   "metadata": {},
   "outputs": [
    {
     "name": "stdout",
     "output_type": "stream",
     "text": [
      "Mean: 35.0,Standard Deviation: 17.07825127659933\n"
     ]
    }
   ],
   "source": [
    "import numpy as np\n",
    "\n",
    "array = np.array([10,20,30,40,50,60])\n",
    "mean = np.mean(array)\n",
    "std_dev = np.std(array)\n",
    "print(f\"Mean: {mean},Standard Deviation: {std_dev}\")"
   ]
  },
  {
   "cell_type": "code",
   "execution_count": 4,
   "id": "29711bd5-3476-478d-a707-7af6b7a34fc4",
   "metadata": {},
   "outputs": [
    {
     "name": "stdout",
     "output_type": "stream",
     "text": [
      "0    4\n",
      "1    5\n",
      "2    6\n",
      "Name: B, dtype: int64\n"
     ]
    }
   ],
   "source": [
    "import pandas as pd\n",
    "\n",
    "df = pd.DataFrame({\n",
    "    'A': [1, 2, 3],\n",
    "    'B': [4, 5, 6],\n",
    "    'C': [7, 8, 9]\n",
    "})\n",
    "print(df['B'])\n"
   ]
  },
  {
   "cell_type": "code",
   "execution_count": 5,
   "id": "faf407c8-cea7-41a5-833c-fdfedd291727",
   "metadata": {},
   "outputs": [
    {
     "name": "stdout",
     "output_type": "stream",
     "text": [
      "   Name  Score\n",
      "0  Anna     85\n",
      "1  Bill     92\n"
     ]
    }
   ],
   "source": [
    "import pandas as pd\n",
    "\n",
    "df = pd.DataFrame({\n",
    "    'Name': ['Anna', 'Bill', 'Catherine'],\n",
    "    'Score': [85, 92, 78]\n",
    "})\n",
    "filtered_df = df[df['Score'] > 80]\n",
    "print(filtered_df)\n"
   ]
  },
  {
   "cell_type": "code",
   "execution_count": 6,
   "id": "480dcc9a-67c8-423f-9a90-8f865a6abed6",
   "metadata": {},
   "outputs": [
    {
     "name": "stdout",
     "output_type": "stream",
     "text": [
      "[5 7 9]\n"
     ]
    }
   ],
   "source": [
    "import numpy as np\n",
    "\n",
    "array1 = np.array([1, 2, 3])\n",
    "array2 = np.array([4, 5, 6])\n",
    "result = array1 + array2\n",
    "print(result)\n"
   ]
  },
  {
   "cell_type": "code",
   "execution_count": 7,
   "id": "12fbda27-50d5-4565-a2dc-a3b1b6300fa3",
   "metadata": {},
   "outputs": [
    {
     "name": "stdout",
     "output_type": "stream",
     "text": [
      "     A    B  C\n",
      "0  1.0  4.0  7\n",
      "1  2.0  0.0  8\n",
      "2  0.0  6.0  9\n"
     ]
    }
   ],
   "source": [
    "import pandas as pd\n",
    "\n",
    "df = pd.DataFrame({\n",
    "    'A': [1, 2, None],\n",
    "    'B': [4, None, 6],\n",
    "    'C': [7, 8, 9]\n",
    "})\n",
    "df_filled = df.fillna(0)\n",
    "print(df_filled)\n"
   ]
  },
  {
   "cell_type": "code",
   "execution_count": 8,
   "id": "26c6494f-560b-4667-a5bd-80a6df9ae337",
   "metadata": {},
   "outputs": [
    {
     "name": "stdout",
     "output_type": "stream",
     "text": [
      "[0 2 4 6 8]\n"
     ]
    }
   ],
   "source": [
    "import numpy as np\n",
    "\n",
    "sequence = np.arange(0, 10, 2)\n",
    "print(sequence)\n"
   ]
  },
  {
   "cell_type": "code",
   "execution_count": 9,
   "id": "bbabc66e-a497-46fd-b7ee-a78c352b7e55",
   "metadata": {},
   "outputs": [
    {
     "name": "stdout",
     "output_type": "stream",
     "text": [
      "          Value\n",
      "Category       \n",
      "A          12.5\n",
      "B          22.5\n"
     ]
    }
   ],
   "source": [
    "import pandas as pd\n",
    "\n",
    "df = pd.DataFrame({\n",
    "    'Category': ['A', 'B', 'A', 'B'],\n",
    "    'Value': [10, 20, 15, 25]\n",
    "})\n",
    "grouped_df = df.groupby('Category').mean()\n",
    "print(grouped_df)\n"
   ]
  },
  {
   "cell_type": "code",
   "execution_count": 10,
   "id": "1f9a894b-f0d8-487d-962d-2fa7e5853248",
   "metadata": {},
   "outputs": [
    {
     "name": "stdout",
     "output_type": "stream",
     "text": [
      "[[1 2 3]\n",
      " [4 5 6]]\n"
     ]
    }
   ],
   "source": [
    "import numpy as np\n",
    "\n",
    "array = np.array([1, 2, 3, 4, 5, 6])\n",
    "reshaped_array = array.reshape((2, 3))\n",
    "print(reshaped_array)\n"
   ]
  },
  {
   "cell_type": "code",
   "execution_count": 11,
   "id": "8b778762-bd7a-4476-a551-3dbaabd9de40",
   "metadata": {},
   "outputs": [
    {
     "name": "stdout",
     "output_type": "stream",
     "text": [
      "   ID    Name  Age\n",
      "0   1    John   28\n",
      "1   2    Paul   32\n",
      "2   3  George   35\n"
     ]
    }
   ],
   "source": [
    "import pandas as pd\n",
    "\n",
    "df1 = pd.DataFrame({\n",
    "    'ID': [1, 2, 3],\n",
    "    'Name': ['John', 'Paul', 'George']\n",
    "})\n",
    "df2 = pd.DataFrame({\n",
    "    'ID': [1, 2, 3],\n",
    "    'Age': [28, 32, 35]\n",
    "})\n",
    "merged_df = pd.merge(df1, df2, on='ID')\n",
    "print(merged_df)\n"
   ]
  },
  {
   "cell_type": "code",
   "execution_count": null,
   "id": "732884f8-0916-4912-b621-975a57f24a3b",
   "metadata": {},
   "outputs": [],
   "source": []
  }
 ],
 "metadata": {
  "kernelspec": {
   "display_name": "Python 3 (ipykernel)",
   "language": "python",
   "name": "python3"
  },
  "language_info": {
   "codemirror_mode": {
    "name": "ipython",
    "version": 3
   },
   "file_extension": ".py",
   "mimetype": "text/x-python",
   "name": "python",
   "nbconvert_exporter": "python",
   "pygments_lexer": "ipython3",
   "version": "3.12.4"
  }
 },
 "nbformat": 4,
 "nbformat_minor": 5
}
