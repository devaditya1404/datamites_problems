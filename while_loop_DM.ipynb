{
 "cells": [
  {
   "cell_type": "code",
   "execution_count": 1,
   "id": "991809ea",
   "metadata": {},
   "outputs": [
    {
     "name": "stdout",
     "output_type": "stream",
     "text": [
      "Enter an integer (or type 'exit' to quit): 3\n",
      "Odd\n",
      "Do you want to check another number? (yes/no): no\n"
     ]
    }
   ],
   "source": [
    "while True:\n",
    "    number = int(input(\"Enter an integer (or type 'exit' to quit): \"))\n",
    "    if number % 2 == 0:\n",
    "        print(\"Even\")\n",
    "    else:\n",
    "        print(\"Odd\")\n",
    "    continue_loop = input(\"Do you want to check another number? (yes/no): \").lower()\n",
    "    if continue_loop != 'yes':\n",
    "        break\n"
   ]
  },
  {
   "cell_type": "code",
   "execution_count": 2,
   "id": "4e7d0180",
   "metadata": {},
   "outputs": [
    {
     "name": "stdout",
     "output_type": "stream",
     "text": [
      "Enter the score (0-100) (or type 'exit' to quit): 32\n",
      "Grade: F\n",
      "Do you want to enter another score? (yes/no): no\n"
     ]
    }
   ],
   "source": [
    "while True:\n",
    "    score = int(input(\"Enter the score (0-100) (or type 'exit' to quit): \"))\n",
    "    if 90 <= score <= 100:\n",
    "        print(\"Grade: A\")\n",
    "    elif 80 <= score < 90:\n",
    "        print(\"Grade: B\")\n",
    "    elif 70 <= score < 80:\n",
    "        print(\"Grade: C\")\n",
    "    elif 60 <= score < 70:\n",
    "        print(\"Grade: D\")\n",
    "    else:\n",
    "        print(\"Grade: F\")\n",
    "    continue_loop = input(\"Do you want to enter another score? (yes/no): \").lower()\n",
    "    if continue_loop != 'yes':\n",
    "        break\n"
   ]
  },
  {
   "cell_type": "code",
   "execution_count": 4,
   "id": "c55c0ccb",
   "metadata": {},
   "outputs": [
    {
     "name": "stdout",
     "output_type": "stream",
     "text": [
      "Enter a year (or type 'exit' to quit): 2122\n",
      "Not a Leap Year\n",
      "Do you want to check another year? (yes/no): no\n"
     ]
    }
   ],
   "source": [
    "while True:\n",
    "    year = int(input(\"Enter a year (or type 'exit' to quit): \"))\n",
    "    if (year % 4 == 0 and year % 100 != 0) or (year % 400 == 0):\n",
    "        print(\"Leap Year\")\n",
    "    else:\n",
    "        print(\"Not a Leap Year\")\n",
    "    continue_loop = input(\"Do you want to check another year? (yes/no): \").lower()\n",
    "    if continue_loop != 'yes':\n",
    "        break\n"
   ]
  },
  {
   "cell_type": "code",
   "execution_count": 5,
   "id": "14a85161",
   "metadata": {},
   "outputs": [
    {
     "name": "stdout",
     "output_type": "stream",
     "text": [
      "Enter the temperature (or type 'exit' to quit): 21\n",
      "Enter the unit (C for Celsius, F for Fahrenheit): 23\n",
      "Invalid unit\n",
      "Do you want to convert another temperature? (yes/no): no\n"
     ]
    }
   ],
   "source": [
    "while True:\n",
    "    temp = float(input(\"Enter the temperature (or type 'exit' to quit): \"))\n",
    "    unit = input(\"Enter the unit (C for Celsius, F for Fahrenheit): \").upper()\n",
    "\n",
    "    if unit == 'C':\n",
    "        fahrenheit = (temp * 9/5) + 32\n",
    "        print(f\"{temp} Celsius is {fahrenheit} Fahrenheit\")\n",
    "    elif unit == 'F':\n",
    "        celsius = (temp - 32) * 5/9\n",
    "        print(f\"{temp} Fahrenheit is {celsius} Celsius\")\n",
    "    else:\n",
    "        print(\"Invalid unit\")\n",
    "    continue_loop = input(\"Do you want to convert another temperature? (yes/no): \").lower()\n",
    "    if continue_loop != 'yes':\n",
    "        break\n"
   ]
  },
  {
   "cell_type": "code",
   "execution_count": 6,
   "id": "3e71c09c",
   "metadata": {},
   "outputs": [
    {
     "name": "stdout",
     "output_type": "stream",
     "text": [
      "Enter your age (or type 'exit' to quit): 21\n",
      "Adult\n",
      "Do you want to enter another age? (yes/no): no\n"
     ]
    }
   ],
   "source": [
    "while True:\n",
    "    age = int(input(\"Enter your age (or type 'exit' to quit): \"))\n",
    "    if 0 <= age <= 12:\n",
    "        print(\"Child\")\n",
    "    elif 13 <= age <= 19:\n",
    "        print(\"Teen\")\n",
    "    elif 20 <= age <= 64:\n",
    "        print(\"Adult\")\n",
    "    else:\n",
    "        print(\"Senior\")\n",
    "    continue_loop = input(\"Do you want to enter another age? (yes/no): \").lower()\n",
    "    if continue_loop != 'yes':\n",
    "        break\n"
   ]
  },
  {
   "cell_type": "code",
   "execution_count": 7,
   "id": "eefe2358",
   "metadata": {},
   "outputs": [
    {
     "name": "stdout",
     "output_type": "stream",
     "text": [
      "Enter an integer (or type 'exit' to quit): 21\n",
      "Positive\n",
      "Do you want to enter another number? (yes/no): no\n"
     ]
    }
   ],
   "source": [
    "while True:\n",
    "    number = int(input(\"Enter an integer (or type 'exit' to quit): \"))\n",
    "    if number > 0:\n",
    "        print(\"Positive\")\n",
    "    elif number < 0:\n",
    "        print(\"Negative\")\n",
    "    else:\n",
    "        print(\"Zero\")\n",
    "    continue_loop = input(\"Do you want to enter another number? (yes/no): \").lower()\n",
    "    if continue_loop != 'yes':\n",
    "        break\n"
   ]
  },
  {
   "cell_type": "code",
   "execution_count": 10,
   "id": "706d1ac1",
   "metadata": {},
   "outputs": [
    {
     "name": "stdout",
     "output_type": "stream",
     "text": [
      "Enter an integer (or type 'exit' to quit): 34\n",
      "Not a multiple of 3 and 5\n",
      "Do you want to check another number? (yes/no): no\n"
     ]
    }
   ],
   "source": [
    "while True:\n",
    "    number = int(input(\"Enter an integer (or type 'exit' to quit): \"))\n",
    "    if number % 3 == 0 and number % 5 == 0:\n",
    "        print(\"Multiple of 3 and 5\")\n",
    "    else:\n",
    "        print(\"Not a multiple of 3 and 5\")\n",
    "    continue_loop = input(\"Do you want to check another number? (yes/no): \").lower()\n",
    "    if continue_loop != 'yes':\n",
    "        break\n"
   ]
  },
  {
   "cell_type": "code",
   "execution_count": 1,
   "id": "5298edbb",
   "metadata": {},
   "outputs": [
    {
     "name": "stdout",
     "output_type": "stream",
     "text": [
      "Enter a number (or type 'exit' to quit): 1223\n",
      "Out of range\n",
      "Do you want to enter another number? (yes/no): no\n"
     ]
    }
   ],
   "source": [
    "while True:\n",
    "    number = int(input(\"Enter a number (or type 'exit' to quit): \"))\n",
    "    if 10 <= number <= 20:\n",
    "        print(\"In range\")\n",
    "    else:\n",
    "        print(\"Out of range\")\n",
    "    continue_loop = input(\"Do you want to enter another number? (yes/no): \").lower()\n",
    "    if continue_loop != 'yes':\n",
    "        break\n"
   ]
  },
  {
   "cell_type": "code",
   "execution_count": 2,
   "id": "6ccd46f5",
   "metadata": {},
   "outputs": [
    {
     "name": "stdout",
     "output_type": "stream",
     "text": [
      "Enter a single character (or type 'exit' to quit): signle\n",
      "Consonant\n",
      "Do you want to check another character? (yes/no): no\n"
     ]
    }
   ],
   "source": [
    "while True:\n",
    "    char = input(\"Enter a single character (or type 'exit' to quit): \").lower()\n",
    "    if char in 'aeiou':\n",
    "        print(\"Vowel\")\n",
    "    else:\n",
    "        print(\"Consonant\")\n",
    "    continue_loop = input(\"Do you want to check another character? (yes/no): \").lower()\n",
    "    if continue_loop != 'yes':\n",
    "        break\n"
   ]
  },
  {
   "cell_type": "code",
   "execution_count": 3,
   "id": "d575d3d8",
   "metadata": {},
   "outputs": [
    {
     "name": "stdout",
     "output_type": "stream",
     "text": [
      "Enter the length of the first side (or type 'exit' to quit): aditya\n"
     ]
    },
    {
     "ename": "ValueError",
     "evalue": "could not convert string to float: 'aditya'",
     "output_type": "error",
     "traceback": [
      "\u001b[0;31m---------------------------------------------------------------------------\u001b[0m",
      "\u001b[0;31mValueError\u001b[0m                                Traceback (most recent call last)",
      "\u001b[0;32m/var/folders/rq/820y49n50_77y098gpbk73sm0000gn/T/ipykernel_84938/2718294671.py\u001b[0m in \u001b[0;36m<module>\u001b[0;34m\u001b[0m\n\u001b[1;32m      1\u001b[0m \u001b[0;32mwhile\u001b[0m \u001b[0;32mTrue\u001b[0m\u001b[0;34m:\u001b[0m\u001b[0;34m\u001b[0m\u001b[0;34m\u001b[0m\u001b[0m\n\u001b[0;32m----> 2\u001b[0;31m     \u001b[0ma\u001b[0m \u001b[0;34m=\u001b[0m \u001b[0mfloat\u001b[0m\u001b[0;34m(\u001b[0m\u001b[0minput\u001b[0m\u001b[0;34m(\u001b[0m\u001b[0;34m\"Enter the length of the first side (or type 'exit' to quit): \"\u001b[0m\u001b[0;34m)\u001b[0m\u001b[0;34m)\u001b[0m\u001b[0;34m\u001b[0m\u001b[0;34m\u001b[0m\u001b[0m\n\u001b[0m\u001b[1;32m      3\u001b[0m     \u001b[0mb\u001b[0m \u001b[0;34m=\u001b[0m \u001b[0mfloat\u001b[0m\u001b[0;34m(\u001b[0m\u001b[0minput\u001b[0m\u001b[0;34m(\u001b[0m\u001b[0;34m\"Enter the length of the second side: \"\u001b[0m\u001b[0;34m)\u001b[0m\u001b[0;34m)\u001b[0m\u001b[0;34m\u001b[0m\u001b[0;34m\u001b[0m\u001b[0m\n\u001b[1;32m      4\u001b[0m     \u001b[0mc\u001b[0m \u001b[0;34m=\u001b[0m \u001b[0mfloat\u001b[0m\u001b[0;34m(\u001b[0m\u001b[0minput\u001b[0m\u001b[0;34m(\u001b[0m\u001b[0;34m\"Enter the length of the third side: \"\u001b[0m\u001b[0;34m)\u001b[0m\u001b[0;34m)\u001b[0m\u001b[0;34m\u001b[0m\u001b[0;34m\u001b[0m\u001b[0m\n\u001b[1;32m      5\u001b[0m \u001b[0;34m\u001b[0m\u001b[0m\n",
      "\u001b[0;31mValueError\u001b[0m: could not convert string to float: 'aditya'"
     ]
    }
   ],
   "source": [
    "while True:\n",
    "    a = float(input(\"Enter the length of the first side (or type 'exit' to quit): \"))\n",
    "    b = float(input(\"Enter the length of the second side: \"))\n",
    "    c = float(input(\"Enter the length of the third side: \"))\n",
    "\n",
    "    if a == b == c:\n",
    "        print(\"Equilateral\")\n",
    "    elif a == b or b == c or a == c:\n",
    "        print(\"Isosceles\")\n",
    "    else:\n",
    "        print(\"Scalene\")\n",
    "    continue_loop = input(\"Do you want to check another triangle? (yes/no): \").lower()\n",
    "    if continue_loop != 'yes':\n",
    "        break\n"
   ]
  },
  {
   "cell_type": "code",
   "execution_count": null,
   "id": "54e5c820",
   "metadata": {},
   "outputs": [],
   "source": []
  }
 ],
 "metadata": {
  "kernelspec": {
   "display_name": "Python 3 (ipykernel)",
   "language": "python",
   "name": "python3"
  },
  "language_info": {
   "codemirror_mode": {
    "name": "ipython",
    "version": 3
   },
   "file_extension": ".py",
   "mimetype": "text/x-python",
   "name": "python",
   "nbconvert_exporter": "python",
   "pygments_lexer": "ipython3",
   "version": "3.9.13"
  }
 },
 "nbformat": 4,
 "nbformat_minor": 5
}
